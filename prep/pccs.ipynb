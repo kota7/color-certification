{
 "cells": [
  {
   "cell_type": "code",
   "execution_count": 1,
   "id": "dfcce4b4-00d8-4b98-890a-1f45a914b60c",
   "metadata": {},
   "outputs": [],
   "source": [
    "import re\n",
    "import matplotlib.pyplot as plt\n",
    "import pandas as pd\n",
    "from urllib.request import Request, urlopen\n",
    "from bs4 import BeautifulSoup as BS"
   ]
  },
  {
   "cell_type": "code",
   "execution_count": 2,
   "id": "8e777d1d-6351-49bc-a7b3-19cbb2552b68",
   "metadata": {},
   "outputs": [
    {
     "data": {
      "text/html": [
       "<div>\n",
       "<style scoped>\n",
       "    .dataframe tbody tr th:only-of-type {\n",
       "        vertical-align: middle;\n",
       "    }\n",
       "\n",
       "    .dataframe tbody tr th {\n",
       "        vertical-align: top;\n",
       "    }\n",
       "\n",
       "    .dataframe thead th {\n",
       "        text-align: right;\n",
       "    }\n",
       "</style>\n",
       "<table border=\"1\" class=\"dataframe\">\n",
       "  <thead>\n",
       "    <tr style=\"text-align: right;\">\n",
       "      <th></th>\n",
       "      <th>pccs</th>\n",
       "      <th>pccs_attr</th>\n",
       "      <th>munsell</th>\n",
       "      <th>rgb</th>\n",
       "    </tr>\n",
       "  </thead>\n",
       "  <tbody>\n",
       "    <tr>\n",
       "      <th>0</th>\n",
       "      <td>v1</td>\n",
       "      <td>1:pR-4.0-9s</td>\n",
       "      <td>10RP 4.0/13.5</td>\n",
       "      <td>#B5184F</td>\n",
       "    </tr>\n",
       "    <tr>\n",
       "      <th>1</th>\n",
       "      <td>v2</td>\n",
       "      <td>2: R-4.5-9s</td>\n",
       "      <td>4R 4.0/14.0</td>\n",
       "      <td>#CD1F42</td>\n",
       "    </tr>\n",
       "    <tr>\n",
       "      <th>2</th>\n",
       "      <td>v3</td>\n",
       "      <td>3:yR-5.0-9s</td>\n",
       "      <td>7R 4.0/14.0</td>\n",
       "      <td>#DD3737</td>\n",
       "    </tr>\n",
       "    <tr>\n",
       "      <th>3</th>\n",
       "      <td>v4</td>\n",
       "      <td>4:rO-5.5-9s</td>\n",
       "      <td>10R 4.0/14.0</td>\n",
       "      <td>#E55125</td>\n",
       "    </tr>\n",
       "    <tr>\n",
       "      <th>4</th>\n",
       "      <td>v5</td>\n",
       "      <td>5: O-6.0-9s</td>\n",
       "      <td>4YR 4.0/13.5</td>\n",
       "      <td>#E66D00</td>\n",
       "    </tr>\n",
       "    <tr>\n",
       "      <th>...</th>\n",
       "      <td>...</td>\n",
       "      <td>...</td>\n",
       "      <td>...</td>\n",
       "      <td>...</td>\n",
       "    </tr>\n",
       "    <tr>\n",
       "      <th>196</th>\n",
       "      <td>Gy-5.5</td>\n",
       "      <td>N-5.5</td>\n",
       "      <td>N 5.5/</td>\n",
       "      <td>#818181</td>\n",
       "    </tr>\n",
       "    <tr>\n",
       "      <th>197</th>\n",
       "      <td>Gy-4.5</td>\n",
       "      <td>N-4.5</td>\n",
       "      <td>N 4.5/</td>\n",
       "      <td>#696969</td>\n",
       "    </tr>\n",
       "    <tr>\n",
       "      <th>198</th>\n",
       "      <td>Gy-3.5</td>\n",
       "      <td>N-3.5</td>\n",
       "      <td>N 3.5/</td>\n",
       "      <td>#525252</td>\n",
       "    </tr>\n",
       "    <tr>\n",
       "      <th>199</th>\n",
       "      <td>Gy-2.5</td>\n",
       "      <td>N-2.5</td>\n",
       "      <td>N 2.5/</td>\n",
       "      <td>#3C3C3C</td>\n",
       "    </tr>\n",
       "    <tr>\n",
       "      <th>200</th>\n",
       "      <td>B</td>\n",
       "      <td>N-1.5</td>\n",
       "      <td>N 1.5/</td>\n",
       "      <td>#292929</td>\n",
       "    </tr>\n",
       "  </tbody>\n",
       "</table>\n",
       "<p>201 rows × 4 columns</p>\n",
       "</div>"
      ],
      "text/plain": [
       "       pccs    pccs_attr        munsell      rgb\n",
       "0        v1  1:pR-4.0-9s  10RP 4.0/13.5  #B5184F\n",
       "1        v2  2: R-4.5-9s    4R 4.0/14.0  #CD1F42\n",
       "2        v3  3:yR-5.0-9s    7R 4.0/14.0  #DD3737\n",
       "3        v4  4:rO-5.5-9s   10R 4.0/14.0  #E55125\n",
       "4        v5  5: O-6.0-9s   4YR 4.0/13.5  #E66D00\n",
       "..      ...          ...            ...      ...\n",
       "196  Gy-5.5        N-5.5         N 5.5/  #818181\n",
       "197  Gy-4.5        N-4.5         N 4.5/  #696969\n",
       "198  Gy-3.5        N-3.5         N 3.5/  #525252\n",
       "199  Gy-2.5        N-2.5         N 2.5/  #3C3C3C\n",
       "200       B        N-1.5         N 1.5/  #292929\n",
       "\n",
       "[201 rows x 4 columns]"
      ]
     },
     "execution_count": 2,
     "metadata": {},
     "output_type": "execute_result"
    }
   ],
   "source": [
    "# Obtain mapping between the PCCS tone-based color to Munsell color code\n",
    "# source: http://www.wsj21.net/ghp/ghp0c_03.html\n",
    "\n",
    "x = urlopen(Request(\"http://www.wsj21.net/ghp/ghp0c_03.html\")).read()\n",
    "soup = BS(x, \"html.parser\")\n",
    "\n",
    "out = []\n",
    "for row in soup.find_all(\"tr\"):\n",
    "  tmp = [t.text for t in row.find_all(\"td\")]\n",
    "  # col1: pccs-tone, col2: pccs-propoerty expression, col3: munsell, col4: rgb\n",
    "  if len(tmp) < 5:\n",
    "    continue\n",
    "  pccs_tone, pccs_attr, munsell, rgb = [t.strip() for t in tmp[1:5]]\n",
    "  \n",
    "  # data filtering\n",
    "  if re.match(r\"#([a-fA-F0-9]{6})\", rgb) is None:\n",
    "    continue\n",
    "  out.append({\"pccs\":pccs_tone, \"pccs_attr\":pccs_attr, \"munsell\":munsell, \"rgb\":rgb})\n",
    "out = pd.DataFrame(out)\n",
    "out.rgb = out.rgb.str.upper()\n",
    "out"
   ]
  },
  {
   "cell_type": "code",
   "execution_count": 6,
   "id": "9e7df717-154c-430e-8f79-63a06e47d547",
   "metadata": {},
   "outputs": [],
   "source": [
    "out.to_csv(\"../pccs.csv\", encoding=\"utf8\", index=False)"
   ]
  },
  {
   "cell_type": "code",
   "execution_count": 4,
   "id": "d3e29ec0-b478-4da5-88bf-cf05a75a138f",
   "metadata": {},
   "outputs": [
    {
     "data": {
      "text/plain": [
       "(201, 201)"
      ]
     },
     "execution_count": 4,
     "metadata": {},
     "output_type": "execute_result"
    }
   ],
   "source": [
    "len(out.pccs.unique()), len(out)  # uniqueness check"
   ]
  },
  {
   "cell_type": "code",
   "execution_count": 5,
   "id": "a24e5843-8372-4338-9724-bfa8240a0231",
   "metadata": {},
   "outputs": [
    {
     "data": {
      "text/plain": [
       "(201, 201)"
      ]
     },
     "execution_count": 5,
     "metadata": {},
     "output_type": "execute_result"
    }
   ],
   "source": [
    "len(out.rgb.unique()), len(out)  # uniqueness check"
   ]
  },
  {
   "cell_type": "code",
   "execution_count": null,
   "id": "0af0683b-398d-47a3-96c0-f4311fe97564",
   "metadata": {},
   "outputs": [],
   "source": []
  }
 ],
 "metadata": {
  "kernelspec": {
   "display_name": "Python(sandbox)",
   "language": "python",
   "name": "python_sandbox"
  },
  "language_info": {
   "codemirror_mode": {
    "name": "ipython",
    "version": 3
   },
   "file_extension": ".py",
   "mimetype": "text/x-python",
   "name": "python",
   "nbconvert_exporter": "python",
   "pygments_lexer": "ipython3",
   "version": "3.8.10"
  }
 },
 "nbformat": 4,
 "nbformat_minor": 5
}
